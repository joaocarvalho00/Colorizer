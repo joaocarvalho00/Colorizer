{
 "cells": [
  {
   "cell_type": "code",
   "execution_count": 26,
   "metadata": {},
   "outputs": [],
   "source": [
    "import tensorflow as tf\n",
    "from keras.layers import Conv2D, Dense, BatchNormalization, Flatten, UpSampling2D\n",
    "from keras.models import Sequential"
   ]
  },
  {
   "cell_type": "code",
   "execution_count": 1,
   "metadata": {},
   "outputs": [],
   "source": [
    "def ColorizerNetwork():\n",
    "    \n",
    "    model = Sequential()\n",
    "    \n",
    "    #Low Level Features\n",
    "    model.add(Conv2D(input_shape = (256, 256, 1), filters = 64, kernel_size = 3, strides = 2, activation = \"relu\", padding = \"same\"))\n",
    "    model.add(Conv2D(filters = 128, kernel_size = 3, strides = 1, activation = \"relu\", padding = \"same\"))\n",
    "    #model.add(BatchNormalization)\n",
    "        \n",
    "    model.add(Conv2D(filters = 128, kernel_size = 3, strides = 2, activation = \"relu\", padding = \"same\"))\n",
    "    model.add(Conv2D(filters = 256, kernel_size = 3, strides = 1, activation = \"relu\", padding = \"same\"))\n",
    "    #model.add(BatchNormalization)\n",
    "    \n",
    "    model.add(Conv2D(filters = 256, kernel_size = 3, strides = 2, activation = \"relu\", padding = \"same\"))\n",
    "    model.add(Conv2D(filters = 512, kernel_size = 3, strides = 1, activation = \"relu\", padding = \"same\"))\n",
    "    #model.add(BatchNormalization)\n",
    "    \n",
    "    #Mid Level Features\n",
    "    model.add(Conv2D(filters = 512, kernel_size = 3, strides = 1, activation = \"relu\", padding = \"same\"))\n",
    "    model.add(Conv2D(filters = 256, kernel_size = 3, strides = 1, activation = \"relu\", padding = \"same\"))\n",
    "    \n",
    "    #Colorization\n",
    "    model.add(Conv2D(filters = 128, kernel_size = 3, strides = 1, activation = \"relu\", padding = \"same\"))\n",
    "    \n",
    "    model.add(UpSampling2D(size = (2, 2)))\n",
    "    model.add(Conv2D(filters = 64, kernel_size = 3, strides = 1, activation = \"relu\", padding = \"same\"))\n",
    "    model.add(Conv2D(filters = 64, kernel_size = 3, strides = 1, activation = \"relu\", padding = \"same\"))\n",
    "    \n",
    "    model.add(UpSampling2D(size = (2, 2)))\n",
    "    model.add(Conv2D(filters = 32, kernel_size = 3, strides = 1, activation = \"relu\", padding = \"same\"))\n",
    "    model.add(Conv2D(filters = 2, kernel_size = 3, strides = 1, activation = \"tanh\", padding = \"same\"))\n",
    "    model.add(UpSampling2D(size = (2, 2)))\n",
    "    \n",
    "    model.compile(optimizer=\"adadelta\", loss =\"mse\")\n",
    "    return model"
   ]
  },
  {
   "cell_type": "code",
   "execution_count": null,
   "metadata": {},
   "outputs": [],
   "source": []
  }
 ],
 "metadata": {
  "kernelspec": {
   "display_name": "Colorizer",
   "language": "python",
   "name": "colorizer"
  },
  "language_info": {
   "codemirror_mode": {
    "name": "ipython",
    "version": 3
   },
   "file_extension": ".py",
   "mimetype": "text/x-python",
   "name": "python",
   "nbconvert_exporter": "python",
   "pygments_lexer": "ipython3",
   "version": "3.8.2"
  }
 },
 "nbformat": 4,
 "nbformat_minor": 4
}
