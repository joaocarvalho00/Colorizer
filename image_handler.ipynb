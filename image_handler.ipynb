{
 "cells": [
  {
   "cell_type": "code",
   "execution_count": 2,
   "metadata": {},
   "outputs": [],
   "source": [
    "import os\n",
    "from tqdm.notebook import tqdm\n",
    "import numpy as np\n",
    "from skimage.color import rgb2lab, lab2rgb, rgb2gray, gray2rgb\n",
    "from skimage.io import imread"
   ]
  },
  {
   "cell_type": "code",
   "execution_count": 1,
   "metadata": {},
   "outputs": [],
   "source": [
    "def get_paths():\n",
    "    base_path = \"datasets/data_256\"\n",
    "    paths = []\n",
    "    \n",
    "    rng = np.random.default_rng()\n",
    "    \n",
    "    folder_list = os.listdir(base_path) # 1st layer folder list -- a, b, c,...\n",
    "    for layer1 in folder_list:\n",
    "        subfolder_list = os.listdir(base_path + \"/\" +layer1) #2nd layer folder list -- airfield, airplane-cabin, badlands,...\n",
    "        for layer2 in subfolder_list:\n",
    "            subsubfolder_list = os.listdir(base_path + \"/\" +layer1 + \"/\" + layer2) #3rd layer folder list\n",
    "            if len(subsubfolder_list) > 20:\n",
    "                for name in subsubfolder_list:\n",
    "                    paths.append(base_path+\"/\"+layer1+\"/\"+layer2+\"/\"+name)\n",
    "                    \n",
    "    paths_array = np.array(paths)\n",
    "    rng.shuffle(paths_array)\n",
    "                    \n",
    "    return paths_array"
   ]
  },
  {
   "cell_type": "code",
   "execution_count": 22,
   "metadata": {},
   "outputs": [],
   "source": [
    "def get_input(path):\n",
    "    img = imread(path)\n",
    "    \n",
    "    return img"
   ]
  },
  {
   "cell_type": "code",
   "execution_count": 5,
   "metadata": {},
   "outputs": [],
   "source": [
    "def preprocess_input(img):\n",
    "    \n",
    "    grayscale=[]\n",
    "    ab_values = []\n",
    "    \n",
    "    lab = rgb2lab(img)\n",
    "    grayscale.append(lab[:,:,0])\n",
    "    ab_values.append(lab[:,:,1:] / 128)\n",
    "    \n",
    "    return grayscale, ab_values"
   ]
  },
  {
   "cell_type": "code",
   "execution_count": 76,
   "metadata": {},
   "outputs": [],
   "source": [
    "def image_generator(batch_size):\n",
    "    \n",
    "    paths = get_paths()\n",
    "    \n",
    "    while True:\n",
    "    \n",
    "        batch_paths  = np.random.choice(a    = paths, \n",
    "                                              size = batch_size)\n",
    "\n",
    "        batch_input  = []\n",
    "        batch_output = []\n",
    "\n",
    "        for input_path in batch_paths:\n",
    "            \n",
    "            img = imread(input_path)\n",
    "            lab = rgb2lab(img)\n",
    "            \n",
    "            batch_input.append(lab[:,:,0])\n",
    "            batch_output.append(lab[:,:,1:] / 128)\n",
    "            \n",
    "        batch_x = np.reshape(batch_input, (batch_size, 256, 256, 1))\n",
    "        batch_y = np.reshape(batch_output, (batch_size, 256, 256, 2))\n",
    "        \n",
    "        \n",
    "        yield (batch_x, batch_y)\n",
    "    "
   ]
  },
  {
   "cell_type": "code",
   "execution_count": 48,
   "metadata": {},
   "outputs": [],
   "source": [
    "#folder_list = os.listdir(base_path) # 1st layer folder list -- a, b, c,...\n",
    "#for layer1 in tqdm(folder_path):\n",
    "    #subfolder_list = os.listdir(base_path + \"/\" +layer1) #2nd layer folder list -- airfield, airplane-cabin, badlands,...\n",
    "    #for layer2 in subfolder_list:\n",
    "        #subsubfolder_list = os.listdir(base_path + \"/\" +layer1 + \"/\" + layer2) #3rd layer folder list\n",
    "        #if len(subsubfolder_list) > 20:\n",
    "            #for name in subsubfolder_list:\n",
    "                #paths.append(\"/\"+layer1+\"/\"+layer2+\"/\"+name)"
   ]
  }
 ],
 "metadata": {
  "kernelspec": {
   "display_name": "Colorizer",
   "language": "python",
   "name": "colorizer"
  },
  "language_info": {
   "codemirror_mode": {
    "name": "ipython",
    "version": 3
   },
   "file_extension": ".py",
   "mimetype": "text/x-python",
   "name": "python",
   "nbconvert_exporter": "python",
   "pygments_lexer": "ipython3",
   "version": "3.8.2"
  }
 },
 "nbformat": 4,
 "nbformat_minor": 4
}
