{
 "cells": [
  {
   "cell_type": "code",
   "execution_count": 2,
   "metadata": {},
   "outputs": [],
   "source": [
    "import tensorflow as tf\n",
    "from keras.layers import Conv2D, Dense, BatchNormalization, Input, Flatten\n",
    "from keras.models import Sequential"
   ]
  },
  {
   "cell_type": "code",
   "execution_count": 1,
   "metadata": {},
   "outputs": [],
   "source": [
    "def ClassificationNetwork():\n",
    "        \n",
    "    model = Sequential()\n",
    "    \n",
    "    #Low Level Features\n",
    "    model.add(Conv2D(input_shape = (32, 32, 3), filters = 64, kernel_size = 3, strides = 2, activation = \"relu\"))\n",
    "    model.add(Conv2D(filters = 128, kernel_size = 3, strides = 1, activation = \"relu\", padding = \"same\"))\n",
    "    #model.add(BatchNormalization)\n",
    "        \n",
    "    model.add(Conv2D(filters = 128, kernel_size = 3, strides = 2, activation = \"relu\"))\n",
    "    model.add(Conv2D(filters = 256, kernel_size = 3, strides = 1, activation = \"relu\", padding = \"same\"))\n",
    "    #model.add(BatchNormalization)\n",
    "    \n",
    "    model.add(Conv2D(filters = 256, kernel_size = 3, strides = 2, activation = \"relu\"))\n",
    "    model.add(Conv2D(filters = 512, kernel_size = 3, strides = 1, activation = \"relu\", padding = \"same\"))\n",
    "    #model.add(BatchNormalization)\n",
    "    \n",
    "    #Global Features\n",
    "    model.add(Conv2D(filters = 512, kernel_size = 3, strides = 2, activation = \"relu\", padding = \"same\"))\n",
    "    model.add(Conv2D(filters = 512, kernel_size = 3, strides = 1, activation = \"relu\", padding = \"same\"))\n",
    "    #model.add(BatchNormalization)\n",
    "    \n",
    "    \n",
    "    model.add(Flatten())\n",
    "    \n",
    "    model.add(Dense(512, activation = \"relu\"))\n",
    "    model.add(Dense(256, activation = \"relu\"))\n",
    "    model.add(Dense(10, activation = \"softmax\"))\n",
    "    \n",
    "    model.compile(optimizer = \"adam\", loss = \"categorical_crossentropy\", metrics = [\"accuracy\"])\n",
    "    \n",
    "    \n",
    "    return model"
   ]
  },
  {
   "cell_type": "code",
   "execution_count": null,
   "metadata": {},
   "outputs": [],
   "source": []
  }
 ],
 "metadata": {
  "kernelspec": {
   "display_name": "Colorizer",
   "language": "python",
   "name": "colorizer"
  },
  "language_info": {
   "codemirror_mode": {
    "name": "ipython",
    "version": 3
   },
   "file_extension": ".py",
   "mimetype": "text/x-python",
   "name": "python",
   "nbconvert_exporter": "python",
   "pygments_lexer": "ipython3",
   "version": "3.8.2"
  }
 },
 "nbformat": 4,
 "nbformat_minor": 4
}
